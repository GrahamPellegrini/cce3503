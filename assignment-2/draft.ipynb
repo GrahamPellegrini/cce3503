{
 "cells": [
  {
   "cell_type": "markdown",
   "metadata": {},
   "source": [
    "# Import Required Libraries\n",
    "Import the necessary libraries such as pandas, numpy, matplotlib, seaborn, and scikit-learn."
   ]
  },
  {
   "cell_type": "code",
   "execution_count": null,
   "metadata": {},
   "outputs": [],
   "source": [
    "# Import the necessary libraries\n",
    "\n",
    "import pandas as pd\n",
    "import numpy as np\n",
    "import matplotlib.pyplot as plt\n",
    "import seaborn as sns\n",
    "from sklearn.model_selection import train_test_split\n",
    "from sklearn.preprocessing import StandardScaler\n",
    "from sklearn.linear_model import LogisticRegression\n",
    "from sklearn.metrics import classification_report, confusion_matrix"
   ]
  },
  {
   "cell_type": "markdown",
   "metadata": {},
   "source": [
    "# Load Dataset\n",
    "Load the dataset from 'assignment-2/yeast.csv' using pandas."
   ]
  },
  {
   "cell_type": "code",
   "execution_count": null,
   "metadata": {},
   "outputs": [],
   "source": [
    "# Load Dataset\n",
    "df = pd.read_csv('assignment-2/yeast.csv')\n",
    "\n",
    "# Display the first few rows of the dataset\n",
    "df.head()"
   ]
  },
  {
   "cell_type": "markdown",
   "metadata": {},
   "source": [
    "# Data Preprocessing\n",
    "Handle missing values, encode categorical variables, and normalize/standardize the data."
   ]
  },
  {
   "cell_type": "code",
   "execution_count": null,
   "metadata": {},
   "outputs": [],
   "source": [
    "# Data Preprocessing\n",
    "\n",
    "# Handle missing values\n",
    "df = df.dropna()  # Drop rows with missing values\n",
    "\n",
    "# Encode categorical variables\n",
    "# Assuming 'class' is the categorical column to be encoded\n",
    "df['class'] = df['class'].astype('category').cat.codes\n",
    "\n",
    "# Normalize/Standardize the data\n",
    "scaler = StandardScaler()\n",
    "# Assuming all columns except the last one are features\n",
    "X = df.iloc[:, :-1].values\n",
    "y = df.iloc[:, -1].values\n",
    "X_scaled = scaler.fit_transform(X)\n",
    "\n",
    "# Update the DataFrame with scaled features\n",
    "df.iloc[:, :-1] = X_scaled\n",
    "\n",
    "# Display the first few rows of the preprocessed dataset\n",
    "df.head()"
   ]
  },
  {
   "cell_type": "markdown",
   "metadata": {},
   "source": [
    "# Exploratory Data Analysis\n",
    "Perform EDA to understand the data distribution, relationships, and patterns using visualizations."
   ]
  },
  {
   "cell_type": "code",
   "execution_count": null,
   "metadata": {},
   "outputs": [],
   "source": [
    "# Exploratory Data Analysis\n",
    "\n",
    "# Display basic statistics of the dataset\n",
    "df.describe()\n",
    "\n",
    "# Plot histograms for each feature\n",
    "df.hist(bins=15, figsize=(15, 10))\n",
    "plt.suptitle('Histograms of Features')\n",
    "plt.show()\n",
    "\n",
    "# Plot a heatmap of the correlation matrix\n",
    "plt.figure(figsize=(12, 8))\n",
    "sns.heatmap(df.corr(), annot=True, cmap='coolwarm', fmt='.2f')\n",
    "plt.title('Correlation Matrix Heatmap')\n",
    "plt.show()\n",
    "\n",
    "# Pairplot to visualize relationships between features\n",
    "sns.pairplot(df)\n",
    "plt.suptitle('Pairplot of Features', y=1.02)\n",
    "plt.show()\n",
    "\n",
    "# Boxplot to visualize the distribution of features\n",
    "plt.figure(figsize=(15, 10))\n",
    "sns.boxplot(data=df)\n",
    "plt.title('Boxplot of Features')\n",
    "plt.xticks(rotation=90)\n",
    "plt.show()\n",
    "\n",
    "# Countplot to visualize the distribution of the target variable\n",
    "plt.figure(figsize=(8, 6))\n",
    "sns.countplot(x=y)\n",
    "plt.title('Distribution of Target Variable')\n",
    "plt.show()"
   ]
  },
  {
   "cell_type": "markdown",
   "metadata": {},
   "source": [
    "# Feature Engineering\n",
    "Create new features or modify existing ones to improve model performance."
   ]
  },
  {
   "cell_type": "code",
   "execution_count": null,
   "metadata": {},
   "outputs": [],
   "source": [
    "# Feature Engineering\n",
    "\n",
    "# Create new features or modify existing ones to improve model performance\n",
    "\n",
    "# Example: Create interaction terms between features\n",
    "df['interaction_1'] = df.iloc[:, 0] * df.iloc[:, 1]\n",
    "df['interaction_2'] = df.iloc[:, 2] * df.iloc[:, 3]\n",
    "\n",
    "# Example: Create polynomial features\n",
    "df['poly_1'] = df.iloc[:, 0] ** 2\n",
    "df['poly_2'] = df.iloc[:, 1] ** 2\n",
    "\n",
    "# Example: Create logarithmic features (adding a small constant to avoid log(0))\n",
    "df['log_1'] = np.log(df.iloc[:, 0] + 1)\n",
    "df['log_2'] = np.log(df.iloc[:, 1] + 1)\n",
    "\n",
    "# Display the first few rows of the dataset with new features\n",
    "df.head()"
   ]
  },
  {
   "cell_type": "markdown",
   "metadata": {},
   "source": [
    "# Model Training\n",
    "Train a machine learning model using scikit-learn. Split the data into training and testing sets."
   ]
  },
  {
   "cell_type": "code",
   "execution_count": null,
   "metadata": {},
   "outputs": [],
   "source": [
    "# Model Training\n",
    "\n",
    "# Split the data into training and testing sets\n",
    "X = df.iloc[:, :-1].values  # Features\n",
    "y = df.iloc[:, -1].values   # Target variable\n",
    "\n",
    "X_train, X_test, y_train, y_test = train_test_split(X, y, test_size=0.2, random_state=42)\n",
    "\n",
    "# Train a Logistic Regression model\n",
    "model = LogisticRegression(max_iter=1000)\n",
    "model.fit(X_train, y_train)\n",
    "\n",
    "# Make predictions on the test set\n",
    "y_pred = model.predict(X_test)\n",
    "\n",
    "# Evaluate the model\n",
    "print(\"Classification Report:\")\n",
    "print(classification_report(y_test, y_pred))\n",
    "\n",
    "print(\"Confusion Matrix:\")\n",
    "print(confusion_matrix(y_test, y_pred))"
   ]
  },
  {
   "cell_type": "markdown",
   "metadata": {},
   "source": [
    "# Model Evaluation\n",
    "Evaluate the model's performance using appropriate metrics and visualize the results."
   ]
  },
  {
   "cell_type": "code",
   "execution_count": null,
   "metadata": {},
   "outputs": [],
   "source": [
    "# Model Evaluation\n",
    "\n",
    "# Evaluate the model's performance using appropriate metrics and visualize the results\n",
    "\n",
    "# Import necessary libraries for evaluation\n",
    "from sklearn.metrics import accuracy_score, precision_score, recall_score, f1_score, roc_auc_score, roc_curve\n",
    "\n",
    "# Calculate accuracy\n",
    "accuracy = accuracy_score(y_test, y_pred)\n",
    "print(f'Accuracy: {accuracy:.2f}')\n",
    "\n",
    "# Calculate precision\n",
    "precision = precision_score(y_test, y_pred, average='weighted')\n",
    "print(f'Precision: {precision:.2f}')\n",
    "\n",
    "# Calculate recall\n",
    "recall = recall_score(y_test, y_pred, average='weighted')\n",
    "print(f'Recall: {recall:.2f}')\n",
    "\n",
    "# Calculate F1 score\n",
    "f1 = f1_score(y_test, y_pred, average='weighted')\n",
    "print(f'F1 Score: {f1:.2f}')\n",
    "\n",
    "# Calculate ROC AUC score\n",
    "roc_auc = roc_auc_score(y_test, model.predict_proba(X_test), multi_class='ovr')\n",
    "print(f'ROC AUC Score: {roc_auc:.2f}')\n",
    "\n",
    "# Plot ROC curve\n",
    "fpr = {}\n",
    "tpr = {}\n",
    "thresh ={}\n",
    "\n",
    "n_class = len(np.unique(y_test))\n",
    "\n",
    "for i in range(n_class):    \n",
    "    fpr[i], tpr[i], thresh[i] = roc_curve(y_test, model.predict_proba(X_test)[:,i], pos_label=i)\n",
    "    \n",
    "plt.figure(figsize=(10, 8))\n",
    "for i in range(n_class):\n",
    "    plt.plot(fpr[i], tpr[i], linestyle='--', label=f'Class {i} vs Rest')\n",
    "plt.plot([0, 1], [0, 1], color='black', linestyle='--')\n",
    "plt.xlabel('False Positive Rate')\n",
    "plt.ylabel('True Positive Rate')\n",
    "plt.title('Multiclass ROC Curve')\n",
    "plt.legend(loc='best')\n",
    "plt.show()\n",
    "\n",
    "# Visualize the confusion matrix\n",
    "plt.figure(figsize=(10, 8))\n",
    "sns.heatmap(confusion_matrix(y_test, y_pred), annot=True, fmt='d', cmap='Blues')\n",
    "plt.title('Confusion Matrix')\n",
    "plt.xlabel('Predicted')\n",
    "plt.ylabel('Actual')\n",
    "plt.show()"
   ]
  }
 ],
 "metadata": {
  "language_info": {
   "name": "python"
  }
 },
 "nbformat": 4,
 "nbformat_minor": 2
}
