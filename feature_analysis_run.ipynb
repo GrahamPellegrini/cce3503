{
 "cells": [
  {
   "cell_type": "markdown",
   "metadata": {},
   "source": [
    "# Assignment 1: Feature analysis\n",
    "\n",
    "Check that an older version of numpy is being used by the system since numpy versions past 2.00 cause mlxtend due to some NPN metrics"
   ]
  },
  {
   "cell_type": "code",
   "execution_count": 1,
   "metadata": {
    "execution": {
     "iopub.execute_input": "2024-11-12T11:27:43.861285Z",
     "iopub.status.busy": "2024-11-12T11:27:43.858473Z",
     "iopub.status.idle": "2024-11-12T11:27:43.951035Z",
     "shell.execute_reply": "2024-11-12T11:27:43.951564Z"
    }
   },
   "outputs": [
    {
     "name": "stdout",
     "output_type": "stream",
     "text": [
      "1.21.5\n"
     ]
    }
   ],
   "source": [
    "import numpy as np\n",
    "print(np.__version__)"
   ]
  },
  {
   "cell_type": "markdown",
   "metadata": {},
   "source": [
    "## Load Dataset\n",
    "\n",
    "Load the dataset from https://archive.ics.uci.edu/ml/datasets/Communities+and+Crime+Unnormalized saved as a csv file \"CommViolPredUnnormalizedData.csv\". The dataset has 147 features of which; 125 predictive, 4 non-predictive, 18 potential goal features. The goal feature to be taken is the assultPerPop feature which describes the number of assaults per 100,000 population."
   ]
  },
  {
   "cell_type": "code",
   "execution_count": 2,
   "metadata": {
    "execution": {
     "iopub.execute_input": "2024-11-12T11:27:43.954162Z",
     "iopub.status.busy": "2024-11-12T11:27:43.953413Z",
     "iopub.status.idle": "2024-11-12T11:27:44.106703Z",
     "shell.execute_reply": "2024-11-12T11:27:44.106451Z"
    }
   },
   "outputs": [
    {
     "name": "stdout",
     "output_type": "stream",
     "text": [
      "Dataset Raw Shape: (2215, 148)\n",
      "Dataset Headers: ['Unnamed: 0', 'communityname', 'state', 'countyCode', 'communityCode', 'fold', 'population', 'householdsize', 'racepctblack', 'racePctWhite', 'racePctAsian', 'racePctHisp', 'agePct12t21', 'agePct12t29', 'agePct16t24', 'agePct65up', 'numbUrban', 'pctUrban', 'medIncome', 'pctWWage', 'pctWFarmSelf', 'pctWInvInc', 'pctWSocSec', 'pctWPubAsst', 'pctWRetire', 'medFamInc', 'perCapInc', 'whitePerCap', 'blackPerCap', 'indianPerCap', 'AsianPerCap', 'OtherPerCap', 'HispPerCap', 'NumUnderPov', 'PctPopUnderPov', 'PctLess9thGrade', 'PctNotHSGrad', 'PctBSorMore', 'PctUnemployed', 'PctEmploy', 'PctEmplManu', 'PctEmplProfServ', 'PctOccupManu', 'PctOccupMgmtProf', 'MalePctDivorce', 'MalePctNevMarr', 'FemalePctDiv', 'TotalPctDiv', 'PersPerFam', 'PctFam2Par', 'PctKids2Par', 'PctYoungKids2Par', 'PctTeen2Par', 'PctWorkMomYoungKids', 'PctWorkMom', 'NumKidsBornNeverMar', 'PctKidsBornNeverMar', 'NumImmig', 'PctImmigRecent', 'PctImmigRec5', 'PctImmigRec8', 'PctImmigRec10', 'PctRecentImmig', 'PctRecImmig5', 'PctRecImmig8', 'PctRecImmig10', 'PctSpeakEnglOnly', 'PctNotSpeakEnglWell', 'PctLargHouseFam', 'PctLargHouseOccup', 'PersPerOccupHous', 'PersPerOwnOccHous', 'PersPerRentOccHous', 'PctPersOwnOccup', 'PctPersDenseHous', 'PctHousLess3BR', 'MedNumBR', 'HousVacant', 'PctHousOccup', 'PctHousOwnOcc', 'PctVacantBoarded', 'PctVacMore6Mos', 'MedYrHousBuilt', 'PctHousNoPhone', 'PctWOFullPlumb', 'OwnOccLowQuart', 'OwnOccMedVal', 'OwnOccHiQuart', 'OwnOccQrange', 'RentLowQ', 'RentMedian', 'RentHighQ', 'RentQrange', 'MedRent', 'MedRentPctHousInc', 'MedOwnCostPctInc', 'MedOwnCostPctIncNoMtg', 'NumInShelters', 'NumStreet', 'PctForeignBorn', 'PctBornSameState', 'PctSameHouse85', 'PctSameCity85', 'PctSameState85', 'LemasSwornFT', 'LemasSwFTPerPop', 'LemasSwFTFieldOps', 'LemasSwFTFieldPerPop', 'LemasTotalReq', 'LemasTotReqPerPop', 'PolicReqPerOffic', 'PolicPerPop', 'RacialMatchCommPol', 'PctPolicWhite', 'PctPolicBlack', 'PctPolicHisp', 'PctPolicAsian', 'PctPolicMinor', 'OfficAssgnDrugUnits', 'NumKindsDrugsSeiz', 'PolicAveOTWorked', 'LandArea', 'PopDens', 'PctUsePubTrans', 'PolicCars', 'PolicOperBudg', 'LemasPctPolicOnPatr', 'LemasGangUnitDeploy', 'LemasPctOfficDrugUn', 'PolicBudgPerPop', 'murders', 'murdPerPop', 'rapes', 'rapesPerPop', 'robberies', 'robbbPerPop', 'assaults', 'assaultPerPop', 'burglaries', 'burglPerPop', 'larcenies', 'larcPerPop', 'autoTheft', 'autoTheftPerPop', 'arsons', 'arsonsPerPop', 'ViolentCrimesPerPop', 'nonViolPerPop']\n"
     ]
    }
   ],
   "source": [
    "# Importing pandas for loading the dataset and data manipulation\n",
    "import pandas as pd\n",
    "\n",
    "# Load Dataset\n",
    "dataset = pd.read_csv(\"assignment-1/CommViolPredUnnormalizedData.csv\", header=0)\n",
    "\n",
    "# Get the shape of the dataset\n",
    "print(\"Dataset Raw Shape:\", dataset.shape)\n",
    "\n",
    "# Print the headers to inspect them\n",
    "print(\"Dataset Headers:\", dataset.columns.tolist())"
   ]
  },
  {
   "cell_type": "markdown",
   "metadata": {},
   "source": [
    "## 1. Data cleaning, missing data and normalization\n",
    "### Drop Non-Predictive and Goal Columns\n",
    "Remove the columns that are not predictive or are potential goals that arent the target column. The working dataset should only contain predictive features and the target column."
   ]
  },
  {
   "cell_type": "code",
   "execution_count": 3,
   "metadata": {
    "execution": {
     "iopub.execute_input": "2024-11-12T11:27:44.111429Z",
     "iopub.status.busy": "2024-11-12T11:27:44.110814Z",
     "iopub.status.idle": "2024-11-12T11:27:44.113273Z",
     "shell.execute_reply": "2024-11-12T11:27:44.113498Z"
    }
   },
   "outputs": [
    {
     "name": "stdout",
     "output_type": "stream",
     "text": [
      "Dataset Shape after dropping columns: (2215, 126)\n"
     ]
    }
   ],
   "source": [
    "# Define a list of non-predictive headers\n",
    "non_predicitive_headers = ['communityname', 'countyCode', 'communityCode', 'fold']\n",
    "\n",
    "# Define a list of potential goal headers\n",
    "goal_headers = ['murders', 'murdPerPop', 'rapes', 'rapesPerPop', 'robberies', 'robbbPerPop', 'assaults', 'burglaries', 'burglPerPop', 'larcenies', 'larcPerPop', 'autoTheft', 'autoTheftPerPop', 'arsons', 'arsonsPerPop', 'ViolentCrimesPerPop', 'nonViolPerPop']\n",
    "\n",
    "# Combine both lists of headers and also drop the index column from the csv format\n",
    "headers_to_drop = ['Unnamed: 0'] + non_predicitive_headers + goal_headers\n",
    "\n",
    "# Check if the headers exist in the dataset if not dont add them to the drop list as they will throw an error\n",
    "headers_to_drop = [header for header in headers_to_drop if header in dataset.columns]\n",
    "\n",
    "# Drop the columns\n",
    "dataset.drop(columns=headers_to_drop, inplace=True)\n",
    "\n",
    "# Print the shape of the dataset after dropping columns\n",
    "print(\"Dataset Shape after dropping columns:\", dataset.shape)"
   ]
  },
  {
   "cell_type": "markdown",
   "metadata": {},
   "source": [
    "### Handeling of Non-Numeric Features\n",
    "\n",
    "The non-numeric features can not be processed noramally through mathematical operations that we require, such as normalization, so we need to convert them to a numeric format. For the state we can use a dictionary to map each unique state to a unique numeric value. For the other non-numeric features we can use one-hot encoding to convert them to a numeric format."
   ]
  },
  {
   "cell_type": "code",
   "execution_count": 4,
   "metadata": {
    "execution": {
     "iopub.execute_input": "2024-11-12T11:27:44.117223Z",
     "iopub.status.busy": "2024-11-12T11:27:44.116797Z",
     "iopub.status.idle": "2024-11-12T11:27:44.140387Z",
     "shell.execute_reply": "2024-11-12T11:27:44.140137Z"
    }
   },
   "outputs": [
    {
     "name": "stdout",
     "output_type": "stream",
     "text": [
      "Non-Numeric Features: ['state', 'OtherPerCap', 'LemasSwornFT', 'LemasSwFTPerPop', 'LemasSwFTFieldOps', 'LemasSwFTFieldPerPop', 'LemasTotalReq', 'LemasTotReqPerPop', 'PolicReqPerOffic', 'PolicPerPop', 'RacialMatchCommPol', 'PctPolicWhite', 'PctPolicBlack', 'PctPolicHisp', 'PctPolicAsian', 'PctPolicMinor', 'OfficAssgnDrugUnits', 'NumKindsDrugsSeiz', 'PolicAveOTWorked', 'PolicCars', 'PolicOperBudg', 'LemasPctPolicOnPatr', 'LemasGangUnitDeploy', 'PolicBudgPerPop', 'assaultPerPop']\n",
      "All Features are Numeric: True\n"
     ]
    }
   ],
   "source": [
    "# Replace missing values indicated by '?' with np.nan values\n",
    "dataset = dataset.replace('?', np.nan)\n",
    "# Note this is done here to avoid errors when converting to numeric but will also be needed for imputation\n",
    "\n",
    "# Print the non-numeric features\n",
    "print(\"Non-Numeric Features:\", dataset.select_dtypes(exclude='number').columns.tolist())\n",
    "\n",
    "# Get the unique instances of the state column\n",
    "states = dataset['state'].unique()\n",
    "\n",
    "# Create a dictionary for each unique state and its corresponding numeric value\n",
    "state_dict = {state: i for i, state in enumerate(states)}\n",
    "\n",
    "# Map the state column to the dictionary\n",
    "dataset['state'] = dataset['state'].map(state_dict)\n",
    "\n",
    "# Convert the dataset to a numeric format\n",
    "dataset = dataset.apply(pd.to_numeric)\n",
    "\n",
    "# Check if all features are numeric\n",
    "print(\"All Features are Numeric:\", dataset.select_dtypes(exclude='number').empty)\n"
   ]
  },
  {
   "cell_type": "markdown",
   "metadata": {},
   "source": [
    "### Handeling Missing Values \n",
    "\n",
    "1. Remove rows/columns with missing values. It is a simple implementation but can lead to a lot of data loss if there are many missing data occurances.\n",
    "\n",
    "2. Foward or Backward Filling is the method of using previous or next column values (respectively). It is typicaly useful for sequential data.\n",
    "\n",
    "3. Imputation is the filling of data using statistical methods such as the mean, median or mode. Simple to implement without loss of data. However, may cause biases if the data is not randomly missing.\n",
    "\n",
    "4. Specified Algorthimns in the machine learning algorithm can handle the case of missing values. Being specific to the algorithmn can come as a advantage and a constraint.\n",
    "\n",
    "\n",
    "**Imputation** was chosen as the majority of missing values were numeric and the mean strategy is simply and effective for such values.\n",
    "\n",
    "The dataset states that the cuase for the missing values is controversy in some states providing full information on sensitive police data. This resulted in some features having more missing values than informative ones.  Should we completely ommit these columns so, as not to cause baises"
   ]
  },
  {
   "cell_type": "code",
   "execution_count": 5,
   "metadata": {
    "execution": {
     "iopub.execute_input": "2024-11-12T11:27:44.143449Z",
     "iopub.status.busy": "2024-11-12T11:27:44.142983Z",
     "iopub.status.idle": "2024-11-12T11:27:44.483729Z",
     "shell.execute_reply": "2024-11-12T11:27:44.483406Z"
    }
   },
   "outputs": [
    {
     "name": "stdout",
     "output_type": "stream",
     "text": [
      "Number of missing values before imputation:  41198\n",
      "Number of missing values after imputation:  0\n",
      "Dataset Shape after handling missing values: (2215, 126)\n"
     ]
    }
   ],
   "source": [
    "# Import the SimpleImputer class\n",
    "from sklearn.impute import SimpleImputer\n",
    "\n",
    "# Check for missing values in the dataset\n",
    "print(\"Number of missing values before imputation: \", dataset.isnull().sum().sum())\n",
    "\n",
    "# Initialize the SimpleImputer with mean strategy\n",
    "imputer = SimpleImputer(strategy='mean')\n",
    "\n",
    "# Apply the imputer using fit_transform on the dataset\n",
    "dataset = pd.DataFrame(imputer.fit_transform(dataset), columns=dataset.columns)\n",
    "\n",
    "# Check for any remaining missing values\n",
    "print(\"Number of missing values after imputation: \", dataset.isnull().sum().sum())\n",
    "\n",
    "# Print the shape of the dataset after imputation\n",
    "print(\"Dataset Shape after handling missing values:\", dataset.shape)\n"
   ]
  },
  {
   "cell_type": "markdown",
   "metadata": {},
   "source": [
    "### Normalize the Dataset\n",
    "\n",
    "Normalization transforms the data to a specific range or distribution, making it easier for machine learning algorithms to process. It ensures that each feature contributes equally to the model, preventing features with larger ranges from dominating the learning process. This is crutial in algorithmns such as the gradient-decent.\n",
    "\n",
    "1. Min-Max Scaling transforms the data to a range [0,1] with a simple formulea. This preserves the relation between data and points on grapichal representations. However, it is sensitive to outlires that may come outside the original min/max.\n",
    "\n",
    "2. Standardization transforms the data to have a mean of 0 and a standard deviation of 1. It is effective for algorithms that assume normally distributed data but is also sensitive to outliers.\n",
    "\n",
    "3. Robust Scaling uses the median and interquartile range for scaling. This fixes the problem of outliers but makes it suffer from data that is not symettrically distributed.\n",
    "\n",
    "4. Max Abs Scaling, scales each feature by its maximum absolute value. Particularly useful for data that is already centered at zero but does not handle outliers well either.\n",
    "\n",
    "Standardization was applied to the dataset. It was chosen as the normalization method due to it being less sensitive to outliers compared to MinMaxScaler. It is usually commonly used for real-world datasets, where the standard deviation is a better measure of spread than the range of values. \n"
   ]
  },
  {
   "cell_type": "code",
   "execution_count": 6,
   "metadata": {
    "execution": {
     "iopub.execute_input": "2024-11-12T11:27:44.487619Z",
     "iopub.status.busy": "2024-11-12T11:27:44.487134Z",
     "iopub.status.idle": "2024-11-12T11:27:44.507378Z",
     "shell.execute_reply": "2024-11-12T11:27:44.507666Z"
    }
   },
   "outputs": [
    {
     "data": {
      "text/html": [
       "<div>\n",
       "<style scoped>\n",
       "    .dataframe tbody tr th:only-of-type {\n",
       "        vertical-align: middle;\n",
       "    }\n",
       "\n",
       "    .dataframe tbody tr th {\n",
       "        vertical-align: top;\n",
       "    }\n",
       "\n",
       "    .dataframe thead th {\n",
       "        text-align: right;\n",
       "    }\n",
       "</style>\n",
       "<table border=\"1\" class=\"dataframe\">\n",
       "  <thead>\n",
       "    <tr style=\"text-align: right;\">\n",
       "      <th></th>\n",
       "      <th>state</th>\n",
       "      <th>population</th>\n",
       "      <th>householdsize</th>\n",
       "      <th>racepctblack</th>\n",
       "      <th>racePctWhite</th>\n",
       "      <th>racePctAsian</th>\n",
       "      <th>racePctHisp</th>\n",
       "      <th>agePct12t21</th>\n",
       "      <th>agePct12t29</th>\n",
       "      <th>agePct16t24</th>\n",
       "      <th>...</th>\n",
       "      <th>LandArea</th>\n",
       "      <th>PopDens</th>\n",
       "      <th>PctUsePubTrans</th>\n",
       "      <th>PolicCars</th>\n",
       "      <th>PolicOperBudg</th>\n",
       "      <th>LemasPctPolicOnPatr</th>\n",
       "      <th>LemasGangUnitDeploy</th>\n",
       "      <th>LemasPctOfficDrugUn</th>\n",
       "      <th>PolicBudgPerPop</th>\n",
       "      <th>assaultPerPop</th>\n",
       "    </tr>\n",
       "  </thead>\n",
       "  <tbody>\n",
       "    <tr>\n",
       "      <th>0</th>\n",
       "      <td>-1.292815</td>\n",
       "      <td>-0.201091</td>\n",
       "      <td>1.175511</td>\n",
       "      <td>-0.559192</td>\n",
       "      <td>0.475175</td>\n",
       "      <td>0.856235</td>\n",
       "      <td>-0.416149</td>\n",
       "      <td>-0.437364</td>\n",
       "      <td>-1.004000</td>\n",
       "      <td>-0.510125</td>\n",
       "      <td>...</td>\n",
       "      <td>-0.190532</td>\n",
       "      <td>-0.331619</td>\n",
       "      <td>1.341436</td>\n",
       "      <td>2.270681e-16</td>\n",
       "      <td>8.583060e-17</td>\n",
       "      <td>0.0</td>\n",
       "      <td>5.561128e-16</td>\n",
       "      <td>-0.340751</td>\n",
       "      <td>3.647879e-16</td>\n",
       "      <td>-0.790188</td>\n",
       "    </tr>\n",
       "    <tr>\n",
       "      <th>1</th>\n",
       "      <td>-1.203014</td>\n",
       "      <td>-0.146622</td>\n",
       "      <td>0.337299</td>\n",
       "      <td>-0.599209</td>\n",
       "      <td>0.706056</td>\n",
       "      <td>0.172105</td>\n",
       "      <td>-0.486762</td>\n",
       "      <td>-0.760544</td>\n",
       "      <td>-1.026653</td>\n",
       "      <td>-0.585510</td>\n",
       "      <td>...</td>\n",
       "      <td>-0.153190</td>\n",
       "      <td>-0.211125</td>\n",
       "      <td>0.162644</td>\n",
       "      <td>2.270681e-16</td>\n",
       "      <td>8.583060e-17</td>\n",
       "      <td>0.0</td>\n",
       "      <td>5.561128e-16</td>\n",
       "      <td>-0.340751</td>\n",
       "      <td>3.647879e-16</td>\n",
       "      <td>-0.631690</td>\n",
       "    </tr>\n",
       "    <tr>\n",
       "      <th>2</th>\n",
       "      <td>-1.113212</td>\n",
       "      <td>-0.116212</td>\n",
       "      <td>-0.830211</td>\n",
       "      <td>-0.603422</td>\n",
       "      <td>0.630518</td>\n",
       "      <td>0.169869</td>\n",
       "      <td>-0.383928</td>\n",
       "      <td>-0.683070</td>\n",
       "      <td>-0.285567</td>\n",
       "      <td>-0.496724</td>\n",
       "      <td>...</td>\n",
       "      <td>-0.153190</td>\n",
       "      <td>-0.001038</td>\n",
       "      <td>0.270547</td>\n",
       "      <td>2.270681e-16</td>\n",
       "      <td>8.583060e-17</td>\n",
       "      <td>0.0</td>\n",
       "      <td>5.561128e-16</td>\n",
       "      <td>-0.340751</td>\n",
       "      <td>3.647879e-16</td>\n",
       "      <td>-0.776613</td>\n",
       "    </tr>\n",
       "    <tr>\n",
       "      <th>3</th>\n",
       "      <td>-1.023411</td>\n",
       "      <td>-0.178234</td>\n",
       "      <td>-0.920020</td>\n",
       "      <td>-0.536025</td>\n",
       "      <td>0.814491</td>\n",
       "      <td>-0.485197</td>\n",
       "      <td>-0.497046</td>\n",
       "      <td>-0.419656</td>\n",
       "      <td>-0.395597</td>\n",
       "      <td>-0.299049</td>\n",
       "      <td>...</td>\n",
       "      <td>-0.202372</td>\n",
       "      <td>0.153398</td>\n",
       "      <td>0.054741</td>\n",
       "      <td>2.270681e-16</td>\n",
       "      <td>8.583060e-17</td>\n",
       "      <td>0.0</td>\n",
       "      <td>5.561128e-16</td>\n",
       "      <td>-0.340751</td>\n",
       "      <td>3.647879e-16</td>\n",
       "      <td>-0.428234</td>\n",
       "    </tr>\n",
       "    <tr>\n",
       "      <th>4</th>\n",
       "      <td>-0.933610</td>\n",
       "      <td>-0.204684</td>\n",
       "      <td>0.157682</td>\n",
       "      <td>-0.618165</td>\n",
       "      <td>0.315569</td>\n",
       "      <td>-0.335403</td>\n",
       "      <td>-0.509386</td>\n",
       "      <td>2.216698</td>\n",
       "      <td>2.084936</td>\n",
       "      <td>2.465049</td>\n",
       "      <td>...</td>\n",
       "      <td>-0.144993</td>\n",
       "      <td>-0.639819</td>\n",
       "      <td>-0.541781</td>\n",
       "      <td>2.270681e-16</td>\n",
       "      <td>8.583060e-17</td>\n",
       "      <td>0.0</td>\n",
       "      <td>5.561128e-16</td>\n",
       "      <td>-0.340751</td>\n",
       "      <td>3.647879e-16</td>\n",
       "      <td>-0.608593</td>\n",
       "    </tr>\n",
       "  </tbody>\n",
       "</table>\n",
       "<p>5 rows × 126 columns</p>\n",
       "</div>"
      ],
      "text/plain": [
       "      state  population  householdsize  racepctblack  racePctWhite  \\\n",
       "0 -1.292815   -0.201091       1.175511     -0.559192      0.475175   \n",
       "1 -1.203014   -0.146622       0.337299     -0.599209      0.706056   \n",
       "2 -1.113212   -0.116212      -0.830211     -0.603422      0.630518   \n",
       "3 -1.023411   -0.178234      -0.920020     -0.536025      0.814491   \n",
       "4 -0.933610   -0.204684       0.157682     -0.618165      0.315569   \n",
       "\n",
       "   racePctAsian  racePctHisp  agePct12t21  agePct12t29  agePct16t24  ...  \\\n",
       "0      0.856235    -0.416149    -0.437364    -1.004000    -0.510125  ...   \n",
       "1      0.172105    -0.486762    -0.760544    -1.026653    -0.585510  ...   \n",
       "2      0.169869    -0.383928    -0.683070    -0.285567    -0.496724  ...   \n",
       "3     -0.485197    -0.497046    -0.419656    -0.395597    -0.299049  ...   \n",
       "4     -0.335403    -0.509386     2.216698     2.084936     2.465049  ...   \n",
       "\n",
       "   LandArea   PopDens  PctUsePubTrans     PolicCars  PolicOperBudg  \\\n",
       "0 -0.190532 -0.331619        1.341436  2.270681e-16   8.583060e-17   \n",
       "1 -0.153190 -0.211125        0.162644  2.270681e-16   8.583060e-17   \n",
       "2 -0.153190 -0.001038        0.270547  2.270681e-16   8.583060e-17   \n",
       "3 -0.202372  0.153398        0.054741  2.270681e-16   8.583060e-17   \n",
       "4 -0.144993 -0.639819       -0.541781  2.270681e-16   8.583060e-17   \n",
       "\n",
       "   LemasPctPolicOnPatr  LemasGangUnitDeploy  LemasPctOfficDrugUn  \\\n",
       "0                  0.0         5.561128e-16            -0.340751   \n",
       "1                  0.0         5.561128e-16            -0.340751   \n",
       "2                  0.0         5.561128e-16            -0.340751   \n",
       "3                  0.0         5.561128e-16            -0.340751   \n",
       "4                  0.0         5.561128e-16            -0.340751   \n",
       "\n",
       "   PolicBudgPerPop  assaultPerPop  \n",
       "0     3.647879e-16      -0.790188  \n",
       "1     3.647879e-16      -0.631690  \n",
       "2     3.647879e-16      -0.776613  \n",
       "3     3.647879e-16      -0.428234  \n",
       "4     3.647879e-16      -0.608593  \n",
       "\n",
       "[5 rows x 126 columns]"
      ]
     },
     "execution_count": 6,
     "metadata": {},
     "output_type": "execute_result"
    }
   ],
   "source": [
    "# Import the StandardScaler class\n",
    "from sklearn.preprocessing import StandardScaler\n",
    "# Normalize Dataset\n",
    "scaler = StandardScaler()\n",
    "\n",
    "# Apply the StandardScaler to the dataset\n",
    "norm_dataset = pd.DataFrame(scaler.fit_transform(dataset), columns=dataset.columns)\n",
    "\n",
    "# Display the heads of the normalized dataset\n",
    "norm_dataset.head()"
   ]
  },
  {
   "cell_type": "markdown",
   "metadata": {},
   "source": [
    "## 2. Filter methods\n",
    "\n",
    "### Colour Coded Correlation Matrix\n",
    "\n",
    "Using pandas defined .corr() function to calculate the correlation matrix of the numeric columns in the dataset. We are easily able to see the correlation between the features in the dataset. These are then plotted using matplotlib and seaborn to create a heatmap of the correlation matrix. This allows us to easily see the correlation between the features in the dataset."
   ]
  },
  {
   "cell_type": "code",
   "execution_count": 7,
   "metadata": {
    "execution": {
     "iopub.execute_input": "2024-11-12T11:27:44.510378Z",
     "iopub.status.busy": "2024-11-12T11:27:44.509905Z",
     "iopub.status.idle": "2024-11-12T11:27:44.970170Z",
     "shell.execute_reply": "2024-11-12T11:27:44.969922Z"
    }
   },
   "outputs": [
    {
     "data": {
      "text/plain": [
       "'\\nplt.figure(figsize=(25, 20))\\nsns.heatmap(correlation_matrix, annot=False, cmap=\\'coolwarm\\', cbar=True)\\nplt.title(\"Correlation Matrix\")\\nplt.show()\\n'"
      ]
     },
     "execution_count": 7,
     "metadata": {},
     "output_type": "execute_result"
    }
   ],
   "source": [
    "# Import the matplotlib and seaborn libraries\n",
    "import matplotlib.pyplot as plt\n",
    "#import seaborn as sns\n",
    "\n",
    "# Set the goal feature as the correlation target\n",
    "target = 'assaultPerPop'\n",
    "\n",
    "# Define the correlation matrix\n",
    "correlation_matrix = norm_dataset.corr()\n",
    "\n",
    "# Plot the heatmap\n",
    "\"\"\"\n",
    "plt.figure(figsize=(25, 20))\n",
    "sns.heatmap(correlation_matrix, annot=False, cmap='coolwarm', cbar=True)\n",
    "plt.title(\"Correlation Matrix\")\n",
    "plt.show()\n",
    "\"\"\""
   ]
  },
  {
   "cell_type": "markdown",
   "metadata": {},
   "source": [
    "\n",
    "### Selecting a Correlation Threshold\n",
    "\n",
    "When we calculated the correlation matrix, we found the index of mutual information between all the features. Now we will use this index to select the features that have are highly correlated with the target feature.\n",
    "\n",
    "1. Visually inspect the correlation matrix and select a threshold that makes sense based off the heatmap and the correlation values.\n",
    "\n",
    "2. Knowing the area/domain of the data and the features, select a threshold that makes sense. So if police where to look at the dataset they could identify the features that are highly correlated with each other and select a threshold that makes sense.\n",
    "\n",
    "3. Use common statistical thresholds, so between -1 and 1, a correlation of 0.7 is considered high, 0.5 is moderate and 0.3 is low. So you can select a threshold of 0.5 for example. These values have statistical significance and are commonly.\n",
    "\n",
    "4. Itersatively select a threshold and evaluate the model's performance. So you can start with a threshold of 0.5 and evaluate the model's performance, then increase or decrease the threshold and evaluate the model's performance again. This is a trial and error method but it is effective.\n",
    "\n",
    "\n",
    "Initially a common statistical threshold of 0.7 was chosen this is meant to be compared to absolute values so it acts as a -0.7 and a 0.7. This value was initially set.# Feature Selection Based on Correlation\n",
    "Select features based on a correlation threshold with the target variable."
   ]
  },
  {
   "cell_type": "code",
   "execution_count": 8,
   "metadata": {
    "execution": {
     "iopub.execute_input": "2024-11-12T11:27:44.973216Z",
     "iopub.status.busy": "2024-11-12T11:27:44.972915Z",
     "iopub.status.idle": "2024-11-12T11:27:44.974346Z",
     "shell.execute_reply": "2024-11-12T11:27:44.974108Z"
    }
   },
   "outputs": [],
   "source": [
    "\n",
    "# Select features based on a correlation threshold\n",
    "correlation_threshold = 0.5\n",
    "# Note a high index of 0.7 (for example) could not be used as there wouldn't be any dtypes left to select\n",
    "\n",
    "# Select the features based on the correlation absolute threshold value, that is taking both negative and positive scales\n",
    "selected_features = correlation_matrix.index[correlation_matrix[target].abs() > correlation_threshold].tolist()\n",
    "\n",
    "# Remove the target feature from the selected features\n",
    "selected_features.remove(target)  "
   ]
  },
  {
   "cell_type": "markdown",
   "metadata": {},
   "source": [
    "### Train-Test Split\n",
    "\n",
    "#The dataset must now be split into training and testing subsets. It is critical that no data leakage occurs between the two subsets. The defined sklearn function train_test_split() ensures this.\n",
    "\n",
    "The decision of the split ratio is completely arbitrary and can be adjusted to ones liking. However, ideally you would want to have a larger training set than the test set. Common splits are 80/20 and 70/30. In this case, we will use an 80/20 split."
   ]
  },
  {
   "cell_type": "code",
   "execution_count": 9,
   "metadata": {
    "execution": {
     "iopub.execute_input": "2024-11-12T11:27:44.978975Z",
     "iopub.status.busy": "2024-11-12T11:27:44.978656Z",
     "iopub.status.idle": "2024-11-12T11:27:44.980173Z",
     "shell.execute_reply": "2024-11-12T11:27:44.979921Z"
    }
   },
   "outputs": [],
   "source": [
    "# Import the train_test_split function\n",
    "from sklearn.model_selection import train_test_split\n",
    "\n",
    "# Split the dataset into train and test subsets\n",
    "train_ratio = 0.8\n",
    "df_train, df_test = train_test_split(norm_dataset, train_size=train_ratio, test_size=1-train_ratio)\n",
    "\n",
    "X_train = df_train[selected_features]\n",
    "y_train = df_train[target]\n",
    "X_test = df_test[selected_features]\n",
    "y_test = df_test[target]\n"
   ]
  },
  {
   "cell_type": "markdown",
   "metadata": {},
   "source": [
    "### Training Neural Network for Prediction\n",
    "\n",
    "The MLPRegressor is used as it is able to predict continuous values, unlike the MLPClassifier which predicts classes."
   ]
  },
  {
   "cell_type": "code",
   "execution_count": 10,
   "metadata": {
    "execution": {
     "iopub.execute_input": "2024-11-12T11:27:44.982831Z",
     "iopub.status.busy": "2024-11-12T11:27:44.982357Z",
     "iopub.status.idle": "2024-11-12T11:27:47.484165Z",
     "shell.execute_reply": "2024-11-12T11:27:47.484627Z"
    }
   },
   "outputs": [],
   "source": [
    "# Import the MLPRegressor class\n",
    "from sklearn.neural_network import MLPRegressor\n",
    "\n",
    "# Initialize the MLPRegressor with specified parameters\n",
    "mlp = MLPRegressor(hidden_layer_sizes=(100,), max_iter=500, random_state=42)\n",
    "\n",
    "# Fit the model on the training data\n",
    "mlp_flt = mlp.fit(X_train, y_train)\n",
    "\n",
    "# Predict on the test set after fitting the model\n",
    "y_pred = mlp_flt.predict(X_test)\n"
   ]
  },
  {
   "cell_type": "markdown",
   "metadata": {},
   "source": [
    "### Evaluate Model\n",
    "\n",
    "The sklearn library provides a mean_squared_error function to compute the MSE between the actual and predicted values.\n",
    "\n",
    "The lower the MSE the better the model is performing"
   ]
  },
  {
   "cell_type": "code",
   "execution_count": 11,
   "metadata": {
    "execution": {
     "iopub.execute_input": "2024-11-12T11:27:47.487027Z",
     "iopub.status.busy": "2024-11-12T11:27:47.486282Z",
     "iopub.status.idle": "2024-11-12T11:27:47.491285Z",
     "shell.execute_reply": "2024-11-12T11:27:47.491839Z"
    }
   },
   "outputs": [
    {
     "name": "stdout",
     "output_type": "stream",
     "text": [
      "Mean Squared Error after feature selection:  0.6597754272045159\n"
     ]
    }
   ],
   "source": [
    "# Import the mean_squared_error function\n",
    "from sklearn.metrics import mean_squared_error\n",
    "\n",
    "# Compute the Mean Squared Error (MSE) for the filter method\n",
    "mse_flt = mean_squared_error(y_test, y_pred)\n",
    "\n",
    "# Print the Mean Squared Error\n",
    "print(\"Mean Squared Error after feature selection: \", mse_flt)"
   ]
  },
  {
   "cell_type": "markdown",
   "metadata": {},
   "source": [
    "# 3. Wrapper methods\n",
    "Implement Sequential Forward Selection (SFS) and Sequential Backward Selection (SBS) to obtain a maximum of 40 features in each case. Discuss the strengths and limitations of SFS and SBS in this context. Train a neural network using the selected features and compute the MSE on the test subset."
   ]
  },
  {
   "cell_type": "markdown",
   "metadata": {},
   "source": [
    "### Sequential Forward Selection (SFS)\n",
    "\n",
    "The SFS is a method of feature selection in which we start with an empty set of features and add features one by one. At each iteration, we analyze the performance of the model with the added feature and select the best feature based on a predefined criterion. The process continues until we tested all the features or reached a predefined number of features. The best number and combination of features are then selected based on the predefined criterion.\n"
   ]
  },
  {
   "cell_type": "code",
   "execution_count": 12,
   "metadata": {
    "execution": {
     "iopub.execute_input": "2024-11-12T11:27:47.494272Z",
     "iopub.status.busy": "2024-11-12T11:27:47.493532Z",
     "iopub.status.idle": "2024-11-12T11:27:47.581161Z",
     "shell.execute_reply": "2024-11-12T11:27:47.580915Z"
    }
   },
   "outputs": [
    {
     "ename": "ModuleNotFoundError",
     "evalue": "No module named 'mlxtend'",
     "output_type": "error",
     "traceback": [
      "\u001b[0;31m---------------------------------------------------------------------------\u001b[0m",
      "\u001b[0;31mModuleNotFoundError\u001b[0m                       Traceback (most recent call last)",
      "\u001b[0;32m/tmp/ipykernel_2054948/1748607241.py\u001b[0m in \u001b[0;36m<module>\u001b[0;34m\u001b[0m\n\u001b[1;32m      1\u001b[0m \u001b[0;31m# Import the SequentialFeatureSelector class\u001b[0m\u001b[0;34m\u001b[0m\u001b[0;34m\u001b[0m\u001b[0m\n\u001b[0;32m----> 2\u001b[0;31m \u001b[0;32mfrom\u001b[0m \u001b[0mmlxtend\u001b[0m\u001b[0;34m.\u001b[0m\u001b[0mfeature_selection\u001b[0m \u001b[0;32mimport\u001b[0m \u001b[0mSequentialFeatureSelector\u001b[0m \u001b[0;32mas\u001b[0m \u001b[0mSFS\u001b[0m\u001b[0;34m\u001b[0m\u001b[0;34m\u001b[0m\u001b[0m\n\u001b[0m\u001b[1;32m      3\u001b[0m \u001b[0;34m\u001b[0m\u001b[0m\n\u001b[1;32m      4\u001b[0m \u001b[0;31m# Define the Sequential Forward Selection (SFS) object\u001b[0m\u001b[0;34m\u001b[0m\u001b[0;34m\u001b[0m\u001b[0m\n\u001b[1;32m      5\u001b[0m sfs = SFS( mlp,\n",
      "\u001b[0;31mModuleNotFoundError\u001b[0m: No module named 'mlxtend'"
     ]
    }
   ],
   "source": [
    "# Import the SequentialFeatureSelector class\n",
    "from mlxtend.feature_selection import SequentialFeatureSelector as SFS\n",
    "\n",
    "# Define the Sequential Forward Selection (SFS) object\n",
    "sfs = SFS( mlp,\n",
    "          k_features=min(40, X_train.shape[1]),\n",
    "          forward=True,\n",
    "          floating=False,\n",
    "          scoring='neg_mean_squared_error',\n",
    "          cv=5)\n",
    "\n",
    "# Fit the SFS object to the training data\n",
    "sfs = sfs.fit(X_train, y_train)\n",
    "\n",
    "# Get the selected features\n",
    "sfs_features = list(sfs.k_feature_names_)"
   ]
  },
  {
   "cell_type": "markdown",
   "metadata": {},
   "source": [
    "# Sequential Backward Selection (SBS)\n",
    "The SBS is similar to the SFS but in reverse order, it starts with all features and removes them one by one. At the end, it will return the best subset of features."
   ]
  },
  {
   "cell_type": "code",
   "execution_count": 13,
   "metadata": {
    "execution": {
     "iopub.execute_input": "2024-11-12T11:27:47.583870Z",
     "iopub.status.busy": "2024-11-12T11:27:47.583395Z",
     "iopub.status.idle": "2024-11-12T11:27:47.588411Z",
     "shell.execute_reply": "2024-11-12T11:27:47.588029Z"
    }
   },
   "outputs": [
    {
     "ename": "ModuleNotFoundError",
     "evalue": "No module named 'mlxtend'",
     "output_type": "error",
     "traceback": [
      "\u001b[0;31m---------------------------------------------------------------------------\u001b[0m",
      "\u001b[0;31mModuleNotFoundError\u001b[0m                       Traceback (most recent call last)",
      "\u001b[0;32m/tmp/ipykernel_2054948/3175473404.py\u001b[0m in \u001b[0;36m<module>\u001b[0;34m\u001b[0m\n\u001b[1;32m      1\u001b[0m \u001b[0;31m# Import the SequentialBackwardSelector class\u001b[0m\u001b[0;34m\u001b[0m\u001b[0;34m\u001b[0m\u001b[0m\n\u001b[0;32m----> 2\u001b[0;31m \u001b[0;32mfrom\u001b[0m \u001b[0mmlxtend\u001b[0m\u001b[0;34m.\u001b[0m\u001b[0mfeature_selection\u001b[0m \u001b[0;32mimport\u001b[0m \u001b[0mSequentialFeatureSelector\u001b[0m \u001b[0;32mas\u001b[0m \u001b[0mSBS\u001b[0m\u001b[0;34m\u001b[0m\u001b[0;34m\u001b[0m\u001b[0m\n\u001b[0m\u001b[1;32m      3\u001b[0m \u001b[0;34m\u001b[0m\u001b[0m\n\u001b[1;32m      4\u001b[0m \u001b[0;31m# Define the Sequential Backward Selection (SBS) object\u001b[0m\u001b[0;34m\u001b[0m\u001b[0;34m\u001b[0m\u001b[0m\n\u001b[1;32m      5\u001b[0m sbs = SBS(mlp, \n",
      "\u001b[0;31mModuleNotFoundError\u001b[0m: No module named 'mlxtend'"
     ]
    }
   ],
   "source": [
    "# Import the SequentialBackwardSelector class\n",
    "from mlxtend.feature_selection import SequentialFeatureSelector as SBS\n",
    "\n",
    "# Define the Sequential Backward Selection (SBS) object\n",
    "sbs = SBS(mlp, \n",
    "          k_features=1, \n",
    "          forward=False, \n",
    "          floating=False, \n",
    "          scoring='neg_mean_squared_error', \n",
    "          cv=5)\n",
    "\n",
    "# Fit the SBS object to the training data\n",
    "sbs = sbs.fit(X_train, y_train)\n",
    "\n",
    "# Get the selected features\n",
    "sbs_features = list(sbs.k_feature_names_)"
   ]
  },
  {
   "cell_type": "markdown",
   "metadata": {},
   "source": [
    "### Discussion on SFS and SBS\n",
    "\n",
    "\n",
    "**Simmilarities:**\n",
    "- Both SFS and SBS are easy to implement as they involve iterative feature selection with additional or removal of features.\n",
    "- They are both wrapper methods that use a predictive model to evaluate the feature subsets.\n",
    "- They both use greedy search strategies to select features which may lead to suboptimal solutions. This is they are unable to see the bigger picture and may not be optimal.\n",
    "\n",
    "**Strengths of SFS:**\n",
    "- SFS is computationally less expensive compared to exhaustive search methods.\n",
    "- It is useful when the number of features is large, as it incrementally adds features that improve the model.\n",
    "\n",
    "**Limitations of SFS:**\n",
    "- SFS can get stuck in local optima, as it does not consider removing features once added.\n",
    "- It may include redundant features that do not contribute significantly to the model's performance.\n",
    "\n",
    "**Strengths of SBS:**\n",
    "- SBS can remove irrelevant or redundant features, potentially leading to a more compact and interpretable model.\n",
    "- It can be useful when the initial feature set is large and contains many irrelevant features.\n",
    "\n",
    "**Limitations of SBS:**\n",
    "- SBS is computationally more expensive than SFS, as it starts with all features and removes them one by one.\n",
    "- It may remove features that are individually weak but collectively strong, leading to suboptimal feature subsets.\n"
   ]
  },
  {
   "cell_type": "markdown",
   "metadata": {},
   "source": [
    "### Train Neural Network with SFS Features\n",
    "After defining the SBS object, we now fit it to the training data and get the selected features. We then can calculate the Mean Squared Error (MSE) for the SBS selected features and compare it to the previous neural network results, that where selected based on the correlation threshold."
   ]
  },
  {
   "cell_type": "code",
   "execution_count": 14,
   "metadata": {
    "execution": {
     "iopub.execute_input": "2024-11-12T11:27:47.592780Z",
     "iopub.status.busy": "2024-11-12T11:27:47.592490Z",
     "iopub.status.idle": "2024-11-12T11:27:47.595558Z",
     "shell.execute_reply": "2024-11-12T11:27:47.595183Z"
    }
   },
   "outputs": [
    {
     "ename": "NameError",
     "evalue": "name 'sfs_features' is not defined",
     "output_type": "error",
     "traceback": [
      "\u001b[0;31m---------------------------------------------------------------------------\u001b[0m",
      "\u001b[0;31mNameError\u001b[0m                                 Traceback (most recent call last)",
      "\u001b[0;32m/tmp/ipykernel_2054948/2407141505.py\u001b[0m in \u001b[0;36m<module>\u001b[0;34m\u001b[0m\n\u001b[1;32m      1\u001b[0m \u001b[0;31m# Train a neural network using SFS selected features\u001b[0m\u001b[0;34m\u001b[0m\u001b[0;34m\u001b[0m\u001b[0m\n\u001b[0;32m----> 2\u001b[0;31m \u001b[0mmlp_sfs\u001b[0m \u001b[0;34m=\u001b[0m \u001b[0mmlp\u001b[0m\u001b[0;34m.\u001b[0m\u001b[0mfit\u001b[0m\u001b[0;34m(\u001b[0m\u001b[0mX_train\u001b[0m\u001b[0;34m[\u001b[0m\u001b[0msfs_features\u001b[0m\u001b[0;34m]\u001b[0m\u001b[0;34m,\u001b[0m \u001b[0my_train\u001b[0m\u001b[0;34m)\u001b[0m\u001b[0;34m\u001b[0m\u001b[0;34m\u001b[0m\u001b[0m\n\u001b[0m\u001b[1;32m      3\u001b[0m \u001b[0my_pred_sfs\u001b[0m \u001b[0;34m=\u001b[0m \u001b[0mmlp_sfs\u001b[0m\u001b[0;34m.\u001b[0m\u001b[0mpredict\u001b[0m\u001b[0;34m(\u001b[0m\u001b[0mX_test\u001b[0m\u001b[0;34m[\u001b[0m\u001b[0msfs_features\u001b[0m\u001b[0;34m]\u001b[0m\u001b[0;34m)\u001b[0m\u001b[0;34m\u001b[0m\u001b[0;34m\u001b[0m\u001b[0m\n\u001b[1;32m      4\u001b[0m \u001b[0;34m\u001b[0m\u001b[0m\n\u001b[1;32m      5\u001b[0m \u001b[0;31m# Compute the Mean Squared Error (MSE) for SFS\u001b[0m\u001b[0;34m\u001b[0m\u001b[0;34m\u001b[0m\u001b[0m\n",
      "\u001b[0;31mNameError\u001b[0m: name 'sfs_features' is not defined"
     ]
    }
   ],
   "source": [
    "\n",
    "# Train a neural network using SFS selected features\n",
    "mlp_sfs = mlp.fit(X_train[sfs_features], y_train)\n",
    "y_pred_sfs = mlp_sfs.predict(X_test[sfs_features])\n",
    "\n",
    "# Compute the Mean Squared Error (MSE) for SFS\n",
    "mse_sfs = mean_squared_error(y_test, y_pred_sfs)\n",
    "print(\"Mean Squared Error with SFS: \", mse_sfs)"
   ]
  },
  {
   "cell_type": "markdown",
   "metadata": {},
   "source": [
    "### Train Neural Network with SBS Features\n",
    "Similary we now also fit the model with the selected features of the sbs and calculate the mse."
   ]
  },
  {
   "cell_type": "code",
   "execution_count": 15,
   "metadata": {
    "execution": {
     "iopub.execute_input": "2024-11-12T11:27:47.600277Z",
     "iopub.status.busy": "2024-11-12T11:27:47.599807Z",
     "iopub.status.idle": "2024-11-12T11:27:47.602159Z",
     "shell.execute_reply": "2024-11-12T11:27:47.601787Z"
    }
   },
   "outputs": [
    {
     "ename": "NameError",
     "evalue": "name 'sbs_features' is not defined",
     "output_type": "error",
     "traceback": [
      "\u001b[0;31m---------------------------------------------------------------------------\u001b[0m",
      "\u001b[0;31mNameError\u001b[0m                                 Traceback (most recent call last)",
      "\u001b[0;32m/tmp/ipykernel_2054948/727242527.py\u001b[0m in \u001b[0;36m<module>\u001b[0;34m\u001b[0m\n\u001b[1;32m      1\u001b[0m \u001b[0;31m# Train a neural network using SBS selected features\u001b[0m\u001b[0;34m\u001b[0m\u001b[0;34m\u001b[0m\u001b[0m\n\u001b[0;32m----> 2\u001b[0;31m \u001b[0mmlp_sbs\u001b[0m \u001b[0;34m=\u001b[0m \u001b[0mmlp\u001b[0m\u001b[0;34m.\u001b[0m\u001b[0mfit\u001b[0m\u001b[0;34m(\u001b[0m\u001b[0mX_train\u001b[0m\u001b[0;34m[\u001b[0m\u001b[0msbs_features\u001b[0m\u001b[0;34m]\u001b[0m\u001b[0;34m,\u001b[0m \u001b[0my_train\u001b[0m\u001b[0;34m)\u001b[0m\u001b[0;34m\u001b[0m\u001b[0;34m\u001b[0m\u001b[0m\n\u001b[0m\u001b[1;32m      3\u001b[0m \u001b[0my_pred_sbs\u001b[0m \u001b[0;34m=\u001b[0m \u001b[0mmlp_sbs\u001b[0m\u001b[0;34m.\u001b[0m\u001b[0mpredict\u001b[0m\u001b[0;34m(\u001b[0m\u001b[0mX_test\u001b[0m\u001b[0;34m[\u001b[0m\u001b[0msbs_features\u001b[0m\u001b[0;34m]\u001b[0m\u001b[0;34m)\u001b[0m\u001b[0;34m\u001b[0m\u001b[0;34m\u001b[0m\u001b[0m\n\u001b[1;32m      4\u001b[0m \u001b[0;34m\u001b[0m\u001b[0m\n\u001b[1;32m      5\u001b[0m \u001b[0;31m# Compute the Mean Squared Error (MSE) for SBS\u001b[0m\u001b[0;34m\u001b[0m\u001b[0;34m\u001b[0m\u001b[0m\n",
      "\u001b[0;31mNameError\u001b[0m: name 'sbs_features' is not defined"
     ]
    }
   ],
   "source": [
    "# Train a neural network using SBS selected features\n",
    "mlp_sbs = mlp.fit(X_train[sbs_features], y_train)\n",
    "y_pred_sbs = mlp_sbs.predict(X_test[sbs_features])\n",
    "\n",
    "# Compute the Mean Squared Error (MSE) for SBS\n",
    "mse_sbs = mean_squared_error(y_test, y_pred_sbs)\n",
    "print(\"Mean Squared Error with SBS: \", mse_sbs)"
   ]
  },
  {
   "cell_type": "markdown",
   "metadata": {},
   "source": [
    "## 4. Feature projection\n",
    "### Principal Component Analysis (PCA)\n",
    "\n",
    "PCA is a dimensionality reduction technique that can be used to reduce the number of features in a dataset by calculating the variance of each feature and selecting the most important ones. The higher the variance in a feature the more important it is to explain the dataset"
   ]
  },
  {
   "cell_type": "code",
   "execution_count": 16,
   "metadata": {
    "execution": {
     "iopub.execute_input": "2024-11-12T11:27:47.605742Z",
     "iopub.status.busy": "2024-11-12T11:27:47.605401Z",
     "iopub.status.idle": "2024-11-12T11:27:47.797110Z",
     "shell.execute_reply": "2024-11-12T11:27:47.797339Z"
    }
   },
   "outputs": [
    {
     "data": {
      "image/png": "[encoded data removed]",
      "text/plain": [
       "<Figure size 720x432 with 1 Axes>"
      ]
     },
     "metadata": {
      "needs_background": "light"
     },
     "output_type": "display_data"
    }
   ],
   "source": [
    "# Import the PCA class\n",
    "from sklearn.decomposition import PCA\n",
    "\n",
    "# Initialize a default PCA object\n",
    "pca = PCA()\n",
    "\n",
    "# Fit the PCA object on the training data\n",
    "pca.fit(X_train)\n",
    "\n",
    "# Plot the explained variance ratio to be able to select the number of components\n",
    "plt.figure(figsize=(10, 6))\n",
    "plt.plot(np.cumsum(pca.explained_variance_ratio_), marker='o', linestyle='--')\n",
    "plt.xlabel('Number of Components')\n",
    "plt.ylabel('Cumulative Explained Variance')\n",
    "plt.title('Explained Variance by Principal Components')\n",
    "plt.grid(True)\n",
    "plt.show()"
   ]
  },
  {
   "cell_type": "markdown",
   "metadata": {},
   "source": [
    "### Select Cut-off Point\n",
    "After calculating variance and plotting the graph, we can now visualize a threshold based on how much variance we want to keep with the number of components\n",
    "\n",
    "### Comment on the choice\n",
    "\n",
    "The choice of threshold is important as it determines the number of components that will be selected. This was chosen to be 4 as it is the number of components that explain close to 95% of the variance, which captures a significant amount of the variance in the data. After this point, the slope of the curve flattens, which means that the variance explained by each additional component is not as significant as before."
   ]
  },
  {
   "cell_type": "code",
   "execution_count": 17,
   "metadata": {
    "execution": {
     "iopub.execute_input": "2024-11-12T11:27:47.799810Z",
     "iopub.status.busy": "2024-11-12T11:27:47.799405Z",
     "iopub.status.idle": "2024-11-12T11:27:47.801434Z",
     "shell.execute_reply": "2024-11-12T11:27:47.801183Z"
    }
   },
   "outputs": [],
   "source": [
    "\n",
    "# Select the threshold for component selection\n",
    "component_threshold = 4\n",
    "\n",
    "# Assign the selected components to a specific PCA object\n",
    "pca = PCA(n_components=component_threshold)"
   ]
  },
  {
   "cell_type": "markdown",
   "metadata": {},
   "source": [
    "### Discussion on PCA\n",
    "\n",
    "**Strengths of PCA:**\n",
    "- PCA reduces the dimensionality of the dataset, which can lead to faster training times and reduced computational cost.\n",
    "- It can help to remove noise and redundant features, potentially improving model performance.\n",
    "- PCA can reveal the underlying structure of the data by identifying the principal components that explain the most variance.\n",
    "\n",
    "**Limitations of PCA:**\n",
    "- PCA is a linear method and may not capture complex, non-linear relationships in the data.\n",
    "- The principal components may not have a clear interpretation, making it difficult to understand the impact of individual features.\n",
    "- PCA requires the data to be standardized, which may not always be appropriate for all datasets.\n"
   ]
  },
  {
   "cell_type": "markdown",
   "metadata": {},
   "source": [
    "### Train Neural Network with PCA Features\n",
    "\n",
    "We can now transform and fit the training data, aswell as transform the test data. So that we can test the effectiveness of the PCA feature selection based on variance through a neural network."
   ]
  },
  {
   "cell_type": "code",
   "execution_count": 18,
   "metadata": {
    "execution": {
     "iopub.execute_input": "2024-11-12T11:27:47.805129Z",
     "iopub.status.busy": "2024-11-12T11:27:47.804519Z",
     "iopub.status.idle": "2024-11-12T11:27:49.084230Z",
     "shell.execute_reply": "2024-11-12T11:27:49.084491Z"
    }
   },
   "outputs": [
    {
     "name": "stdout",
     "output_type": "stream",
     "text": [
      "Mean Squared Error with PCA:  0.6328206940392391\n"
     ]
    }
   ],
   "source": [
    "\n",
    "# Fit and transform the training data \n",
    "X_train_pca = pca.fit_transform(X_train)\n",
    "\n",
    "# Transform the test data\n",
    "X_test_pca = pca.transform(X_test)\n",
    "\n",
    "# Train a neural network using PCA selected features\n",
    "mlp_pca = mlp.fit(X_train_pca, y_train)\n",
    "\n",
    "# Predict on the test set after fitting the model with PCA\n",
    "y_pred_pca = mlp_pca.predict(X_test_pca)\n",
    "\n",
    "# Compute the Mean Squared Error (MSE) for PCA\n",
    "mse_pca = mean_squared_error(y_test, y_pred_pca)\n",
    "print(\"Mean Squared Error with PCA: \", mse_pca)"
   ]
  },
  {
   "cell_type": "markdown",
   "metadata": {},
   "source": [
    "# 5. Comparison\n",
    "Compare the MSE for the four methods used (filter, SFS, SBS, PCA)."
   ]
  },
  {
   "cell_type": "code",
   "execution_count": 19,
   "metadata": {
    "execution": {
     "iopub.execute_input": "2024-11-12T11:27:49.086654Z",
     "iopub.status.busy": "2024-11-12T11:27:49.085908Z",
     "iopub.status.idle": "2024-11-12T11:27:49.097340Z",
     "shell.execute_reply": "2024-11-12T11:27:49.097881Z"
    }
   },
   "outputs": [
    {
     "name": "stdout",
     "output_type": "stream",
     "text": [
      "Mean Squared Error with Filter Method:  0.6597754272045159\n"
     ]
    },
    {
     "ename": "NameError",
     "evalue": "name 'mse_sfs' is not defined",
     "output_type": "error",
     "traceback": [
      "\u001b[0;31m---------------------------------------------------------------------------\u001b[0m",
      "\u001b[0;31mNameError\u001b[0m                                 Traceback (most recent call last)",
      "\u001b[0;32m/tmp/ipykernel_2054948/3320068714.py\u001b[0m in \u001b[0;36m<module>\u001b[0;34m\u001b[0m\n\u001b[1;32m      1\u001b[0m \u001b[0;31m# Print the mse for all the methods\u001b[0m\u001b[0;34m\u001b[0m\u001b[0;34m\u001b[0m\u001b[0m\n\u001b[1;32m      2\u001b[0m \u001b[0mprint\u001b[0m\u001b[0;34m(\u001b[0m\u001b[0;34m\"Mean Squared Error with Filter Method: \"\u001b[0m\u001b[0;34m,\u001b[0m \u001b[0mmse_flt\u001b[0m\u001b[0;34m)\u001b[0m\u001b[0;34m\u001b[0m\u001b[0;34m\u001b[0m\u001b[0m\n\u001b[0;32m----> 3\u001b[0;31m \u001b[0mprint\u001b[0m\u001b[0;34m(\u001b[0m\u001b[0;34m\"Mean Squared Error with SFS: \"\u001b[0m\u001b[0;34m,\u001b[0m \u001b[0mmse_sfs\u001b[0m\u001b[0;34m)\u001b[0m\u001b[0;34m\u001b[0m\u001b[0;34m\u001b[0m\u001b[0m\n\u001b[0m\u001b[1;32m      4\u001b[0m \u001b[0mprint\u001b[0m\u001b[0;34m(\u001b[0m\u001b[0;34m\"Mean Squared Error with SBS: \"\u001b[0m\u001b[0;34m,\u001b[0m \u001b[0mmse_sbs\u001b[0m\u001b[0;34m)\u001b[0m\u001b[0;34m\u001b[0m\u001b[0;34m\u001b[0m\u001b[0m\n\u001b[1;32m      5\u001b[0m \u001b[0mprint\u001b[0m\u001b[0;34m(\u001b[0m\u001b[0;34m\"Mean Squared Error with PCA: \"\u001b[0m\u001b[0;34m,\u001b[0m \u001b[0mmse_pca\u001b[0m\u001b[0;34m)\u001b[0m\u001b[0;34m\u001b[0m\u001b[0;34m\u001b[0m\u001b[0m\n",
      "\u001b[0;31mNameError\u001b[0m: name 'mse_sfs' is not defined"
     ]
    }
   ],
   "source": [
    "# Print the mse for all the methods\n",
    "print(\"Mean Squared Error with Filter Method: \", mse_flt)\n",
    "print(\"Mean Squared Error with SFS: \", mse_sfs)\n",
    "print(\"Mean Squared Error with SBS: \", mse_sbs)\n",
    "print(\"Mean Squared Error with PCA: \", mse_pca)\n",
    "\n",
    "# Plot the mse for comparison in a bar chart\n",
    "plt.figure(figsize=(10, 6))\n",
    "plt.bar(['Filter Method', 'SFS', 'SBS', 'PCA'], [mse_flt, mse_sfs, mse_sbs, mse_pca])\n",
    "plt.xlabel('Feature Selection Method')\n",
    "plt.ylabel('Mean Squared Error')\n",
    "plt.title('Mean Squared Error by Feature Selection Method')\n",
    "# Zoom in due to the small differences\\\n",
    "plt.ylim(0.4,0.55)\n",
    "plt.grid(True)\n",
    "plt.show()\n"
   ]
  },
  {
   "cell_type": "markdown",
   "metadata": {},
   "source": [
    "### Discus Methods\n",
    "PCA showed the best results for this dataset as it had the lowest MSE. It was able to reduce the dimensionality of the dataset while still maintaining the predictive power of the model. Second best was the SBS method, it proved better than SFS in this case and this could be due to the nature of the dataset. The wrapper methods (SFS and SBS) are computationally expensive compared to the filter methods and PCA. The filter method was the least effective in this case as it does not consider the relationship between features and the target variable. But rather it is based on the correlation between features and this could lead to the selection of irrelevant features."
   ]
  },
  {
   "cell_type": "markdown",
   "metadata": {},
   "source": [
    "## Plagerism \n",
    "\n",
    "- Use of ChatGPT and Co-Pilot moslty for plot parameters and syntax. However failed to use the sklearn libaries properly.property\n",
    "\n",
    "- Sklearn documentation was used to understand the parameters and functions being used. \n",
    "https://scikit-learn.org/stable/modules/generated/sklearn.feature_selection.SequentialFeatureSelector.html"
   ]
  }
 ],
 "metadata": {
  "kernelspec": {
   "display_name": "cce3503-venv",
   "language": "python",
   "name": "python3"
  },
  "language_info": {
   "codemirror_mode": {
    "name": "ipython",
    "version": 3
   },
   "file_extension": ".py",
   "mimetype": "text/x-python",
   "name": "python",
   "nbconvert_exporter": "python",
   "pygments_lexer": "ipython3",
   "version": "3.10.12"
  }
 },
 "nbformat": 4,
 "nbformat_minor": 2
}
